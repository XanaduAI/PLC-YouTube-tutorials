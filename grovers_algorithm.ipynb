{
 "cells": [
  {
   "cell_type": "markdown",
   "id": "b16aa47b-dbbe-4c5b-9474-4c69f06955be",
   "metadata": {},
   "source": [
    "## The inheritance\n",
    "\n",
    "We have an amount of property that we want to divide between two siblings.\n",
    "\n",
    "```python\n",
    "property_prices = [4, 8, 6, 3, 12, 15] # units in thousands of dollars\n",
    "```\n",
    "\n",
    "In our case, we have 6 different properties. We want to see if we can partition them into two sets that have the same value.\n",
    "\n",
    "We will have 6 binary variables:\n",
    "\n",
    "$x_i = 0$ if the i-th property goes to the first sibling.\n",
    "\n",
    "$x_i = 1$ if the i-th property goes to the second sibling.\n",
    "   \n",
    "   \n",
    "Steps:\n",
    "\n",
    "1. We create a superposition of all possible asset allocations.\n",
    "2. Through the oracle, we mark those distributions that satisfy the request.\n",
    "3. We amplify the probability of observing solution states through Grover's operator."
   ]
  },
  {
   "cell_type": "code",
   "execution_count": 1,
   "id": "e734c373-df91-449c-84f6-e261e4906878",
   "metadata": {},
   "outputs": [],
   "source": [
    "import pennylane as qml\n",
    "from pennylane import numpy as np\n",
    "\n",
    "property_prices = [4, 8, 6, 3, 12, 15] # total 48 \n",
    "variables_wires = [0, 1, 2, 3, 4, 5]\n"
   ]
  },
  {
   "cell_type": "code",
   "execution_count": 2,
   "id": "6be55ca7-73c4-43a0-b60d-9f215f53fd93",
   "metadata": {},
   "outputs": [],
   "source": [
    "aux_oracle_wires = [6, 7, 8 ,9 ,10, 11]\n",
    "\n",
    "def oracle(variables_wires, aux_oracle_wires):\n",
    "    \n",
    "    def add_k_fourier(k, wires):\n",
    "        for j in range(len(wires)):\n",
    "            qml.RZ(k * np.pi / (2**j), wires=wires[j])\n",
    "            \n",
    "    def value_second_sibling():\n",
    "        \n",
    "        qml.QFT(wires = aux_oracle_wires)\n",
    "        \n",
    "        for wire in variables_wires:\n",
    "            qml.ctrl(add_k_fourier, control = wire)(property_prices[wire], wires = aux_oracle_wires)\n",
    "            \n",
    "        qml.adjoint(qml.QFT)(wires = aux_oracle_wires)\n",
    "        \n",
    "    value_second_sibling()\n",
    "    qml.FlipSign(sum(property_prices) // 2, wires = aux_oracle_wires)\n",
    "    qml.adjoint(value_second_sibling)()\n",
    "    "
   ]
  },
  {
   "cell_type": "code",
   "execution_count": 3,
   "id": "13abee64-4421-4699-b8c8-fab77e04420d",
   "metadata": {},
   "outputs": [],
   "source": [
    "dev = qml.device(\"default.qubit\", wires = variables_wires + aux_oracle_wires)\n",
    "\n",
    "@qml.qnode(dev)\n",
    "def circuit():\n",
    "    \n",
    "    # step 1\n",
    "    for wire in variables_wires:\n",
    "        qml.Hadamard(wires = wire)\n",
    "       \n",
    "    # step 2\n",
    "    oracle(variables_wires, aux_oracle_wires)\n",
    "    \n",
    "    # step 3\n",
    "    qml.GroverOperator(wires = variables_wires)\n",
    "    \n",
    "    return qml.probs(wires = variables_wires)"
   ]
  },
  {
   "cell_type": "code",
   "execution_count": 4,
   "id": "cf171303-07a1-4e09-a893-566512fe5233",
   "metadata": {},
   "outputs": [
    {
     "data": {
      "text/plain": [
       "<BarContainer object of 64 artists>"
      ]
     },
     "execution_count": 4,
     "metadata": {},
     "output_type": "execute_result"
    },
    {
     "data": {
      "image/png": "[encoded data removed]",
      "text/plain": [
       "<Figure size 640x480 with 1 Axes>"
      ]
     },
     "metadata": {},
     "output_type": "display_data"
    }
   ],
   "source": [
    "import matplotlib.pyplot as plt\n",
    "\n",
    "values = circuit()\n",
    "plt.bar(range(len(values)), values)"
   ]
  },
  {
   "cell_type": "code",
   "execution_count": null,
   "id": "0d5432cf-6a63-411b-9af2-90a754d48483",
   "metadata": {},
   "outputs": [],
   "source": []
  },
  {
   "cell_type": "code",
   "execution_count": null,
   "id": "2e274806-5568-41b8-9fad-263c9d9b7347",
   "metadata": {},
   "outputs": [],
   "source": []
  },
  {
   "cell_type": "code",
   "execution_count": null,
   "id": "64fd57d7-de81-4e7f-990a-27c54e55fc90",
   "metadata": {},
   "outputs": [],
   "source": []
  },
  {
   "cell_type": "code",
   "execution_count": null,
   "id": "adc7e81e-cfb3-49f9-96f7-ceef846e1131",
   "metadata": {},
   "outputs": [],
   "source": []
  },
  {
   "cell_type": "code",
   "execution_count": null,
   "id": "caaa1fe6-d4c1-42e6-a6dd-7556830e7bac",
   "metadata": {},
   "outputs": [],
   "source": []
  }
 ],
 "metadata": {
  "kernelspec": {
   "display_name": "PennyLane",
   "language": "python",
   "name": "pennylane"
  },
  "language_info": {
   "codemirror_mode": {
    "name": "ipython",
    "version": 3
   },
   "file_extension": ".py",
   "mimetype": "text/x-python",
   "name": "python",
   "nbconvert_exporter": "python",
   "pygments_lexer": "ipython3",
   "version": "3.9.13"
  }
 },
 "nbformat": 4,
 "nbformat_minor": 5
}
