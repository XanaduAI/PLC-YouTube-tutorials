{
 "cells": [
  {
   "cell_type": "markdown",
   "id": "19cf4efc-ea31-4b90-b4f1-8217ce8cdd1d",
   "metadata": {},
   "source": [
    "\n",
    "\n",
    "# Events organization\n",
    "\n",
    "Events: $E_1$, $E_2$, $E_3$, $E_4$ and $E_5$\n",
    "\n",
    "People: $P_1$, $P_2$, $P_3$ and $P_4$.\n",
    "\n",
    "\n",
    "Preferences:\n",
    "- $P_1$ want to go to $E_1$ and $E_4$.\n",
    "- $P_2$ want to go to $E_2$ and $E_3$.\n",
    "- $P_3$ want to go to $E_4$ and $E_5$.\n",
    "- $P_4$ want to go to $E_3$ and $E_4$.\n",
    "\n",
    "Binary variables:\n",
    "\n",
    "- $x_i = 0$ if the i-th event is on Saturday\n",
    "- $x_i = 1$ if the i-th event is on Sunday\n",
    "\n",
    "Formulation:\n",
    "\n",
    "$f(x_1,x_2,x_3,x_4,x_5) = 4 + x_1 + x_2 + 2x_3 + 3x_4 + x_5 -2x_1x_4-2x_2x_3-2x_4x_5-2x_3x_4$\n",
    "\n",
    "Change of variable:\n",
    "\n",
    "$x_i = \\frac{1-z_i}{2}$\n",
    "\n",
    "- $z_i = 1$ if the i-th event is on Saturday\n",
    "- $z_i = -1$ if the i-th event is on Sunday\n",
    "\n",
    "New formulation:\n",
    "\n",
    "$f(z_1,z_2,z_3,z_4,z_5) = 6 - \\frac{1}{2}z_1z_4- \\frac{1}{2}z_2z_3- \\frac{1}{2}z_4z_5- \\frac{1}{2}z_3z_4$"
   ]
  },
  {
   "cell_type": "code",
   "execution_count": null,
   "id": "6f9bf672-c7ca-4ef2-aad2-8325293254e5",
   "metadata": {},
   "outputs": [],
   "source": [
    "import pennylane as qml\n",
    "from pennylane import numpy as np\n",
    "\n",
    "H = - 6 * qml.Identity(1) + \\\n",
    "    0.5 * qml.PauliZ(1) @ qml.PauliZ(4) + \\\n",
    "    0.5 * qml.PauliZ(2) @ qml.PauliZ(3) + \\\n",
    "    0.5 * qml.PauliZ(4) @ qml.PauliZ(5) + \\\n",
    "    0.5 * qml.PauliZ(3) @ qml.PauliZ(4) \n",
    "    \n",
    "print(H)"
   ]
  },
  {
   "cell_type": "code",
   "execution_count": null,
   "id": "b89f50b5-5d5d-464c-bd05-c989a10e9761",
   "metadata": {},
   "outputs": [],
   "source": [
    "dev = qml.device(\"default.qubit\", wires = H.wires)\n",
    "\n",
    "@qml.qnode(dev)\n",
    "def circuit(params):\n",
    "    \n",
    "    for param, wire in zip(params, H.wires):\n",
    "        qml.RY(param, wires = wire)\n",
    "        \n",
    "    return qml.expval(H)\n",
    "\n",
    "circuit([0,0,0,0,0])"
   ]
  },
  {
   "cell_type": "code",
   "execution_count": null,
   "id": "085873a7-09bb-43f4-9b1b-d7ecb7490802",
   "metadata": {},
   "outputs": [],
   "source": [
    "params = np.random.rand(len(H.wires))\n",
    "opt = qml.AdagradOptimizer(stepsize = 0.5)\n",
    "epochs = 200\n",
    "\n",
    "for epoch in range(epochs):\n",
    "    params = opt.step(circuit, params)\n",
    "    \n",
    "circuit(params)"
   ]
  },
  {
   "cell_type": "code",
   "execution_count": null,
   "id": "0b500e66-56bd-4098-a382-9e6d30bab8af",
   "metadata": {},
   "outputs": [],
   "source": [
    "dev = qml.device(\"default.qubit\", wires = H.wires, shots = 1)\n",
    "\n",
    "@qml.qnode(dev)\n",
    "def circuit(params):\n",
    "    \n",
    "    for param, wire in zip(params, H.wires):\n",
    "        qml.RY(param, wires = wire)\n",
    "        \n",
    "    return qml.sample()\n",
    "\n",
    "circuit(params)"
   ]
  }
 ],
 "metadata": {
  "kernelspec": {
   "display_name": "PennyLane",
   "language": "python",
   "name": "pennylane"
  },
  "language_info": {
   "codemirror_mode": {
    "name": "ipython",
    "version": 3
   },
   "file_extension": ".py",
   "mimetype": "text/x-python",
   "name": "python",
   "nbconvert_exporter": "python",
   "pygments_lexer": "ipython3",
   "version": "3.9.12"
  },
  "vscode": {
   "interpreter": {
    "hash": "bf04860b618df62924ac577937eb78853ed0fe0f51833c65adb948f2cfa38ea7"
   }
  }
 },
 "nbformat": 4,
 "nbformat_minor": 5
}
